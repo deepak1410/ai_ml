{
 "cells": [
  {
   "cell_type": "code",
   "execution_count": 23,
   "metadata": {},
   "outputs": [],
   "source": [
    "import numpy as np\n",
    "import pandas as pd\n",
    "import matplotlib.pyplot as plt\n",
    "import seaborn as sns\n",
    "\n",
    "import statsmodels\n",
    "import statsmodels.api as sm\n",
    "import sklearn"
   ]
  },
  {
   "cell_type": "markdown",
   "metadata": {},
   "source": [
    "*Note*: Model can be built by any of the 2 libraries statsmodels or sklearn"
   ]
  },
  {
   "cell_type": "code",
   "execution_count": 24,
   "metadata": {},
   "outputs": [],
   "source": [
    "advertising_csv = '../../data/advertising.csv'\n",
    "advertising = pd.read_csv(advertising_csv)"
   ]
  },
  {
   "cell_type": "markdown",
   "metadata": {},
   "source": [
    "##### p-value\n",
    "•  If the p-value is lower then the coefficient is statistically significant.\n",
    "\n",
    "##### F-statistic & Prob(F-statistic)\n",
    "• It tells you whether the overall model fit is significant or not.\n",
    "• If Prob(F-statistic) < 0.05, you can conclude that the overall model fit is significant. Else, you might need to review your model as the fit might be by chance\n",
    "\n",
    "##### R-squared \n",
    "• It lies between 0 and 1.\n",
    "• R-squared value tells you exactly how much variance in the data has been explained by the model. e.g. if R-squared = 0.816, which means that the model is able to explain 81.6% of the variance which is pretty good\n"
   ]
  },
  {
   "cell_type": "markdown",
   "metadata": {},
   "source": [
    "#### RMSE (Root Mean Squared Error) \n",
    "It is a metric that tells you the deviation of the predicted values by a model from the actual observed values. So, since it is a sort of error term, it is better to have a low RMSE."
   ]
  },
  {
   "cell_type": "code",
   "execution_count": null,
   "metadata": {},
   "outputs": [],
   "source": []
  }
 ],
 "metadata": {
  "kernelspec": {
   "display_name": "Python 3",
   "language": "python",
   "name": "python3"
  },
  "language_info": {
   "codemirror_mode": {
    "name": "ipython",
    "version": 3
   },
   "file_extension": ".py",
   "mimetype": "text/x-python",
   "name": "python",
   "nbconvert_exporter": "python",
   "pygments_lexer": "ipython3",
   "version": "3.7.4"
  }
 },
 "nbformat": 4,
 "nbformat_minor": 2
}
